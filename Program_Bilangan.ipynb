{
  "nbformat": 4,
  "nbformat_minor": 0,
  "metadata": {
    "colab": {
      "provenance": [],
      "authorship_tag": "ABX9TyPUHCXduDrBKnXXpxcAbZty",
      "include_colab_link": true
    },
    "kernelspec": {
      "name": "python3",
      "display_name": "Python 3"
    },
    "language_info": {
      "name": "python"
    }
  },
  "cells": [
    {
      "cell_type": "markdown",
      "metadata": {
        "id": "view-in-github",
        "colab_type": "text"
      },
      "source": [
        "<a href=\"https://colab.research.google.com/github/ibnu666-beep/PBO_TIsem2_dvibnu/blob/main/Program_Bilangan.ipynb\" target=\"_parent\"><img src=\"https://colab.research.google.com/assets/colab-badge.svg\" alt=\"Open In Colab\"/></a>"
      ]
    },
    {
      "cell_type": "markdown",
      "source": [
        "# **Program Pengecek Bilangan**\n"
      ],
      "metadata": {
        "id": "Cg5Eb3ZDqxqx"
      }
    },
    {
      "cell_type": "code",
      "source": [
        "# Fungsi untuk mengecek apakah bilangan adalah prima\n",
        "def is_prima(n):\n",
        "    if n <= 1:\n",
        "        return False\n",
        "    for i in range(2, int(n**0.5) + 1):\n",
        "        if n % i == 0:\n",
        "            return False\n",
        "    return True\n",
        "\n",
        "# Program utama\n",
        "while True:\n",
        "    # Input dari pengguna\n",
        "    try:\n",
        "        bilangan = int(input(\"Masukkan sebuah bilangan bulat: \"))\n",
        "\n",
        "        # Mengecek genap atau ganjil\n",
        "        if bilangan % 2 == 0:\n",
        "            jenis = \"Genap\"\n",
        "        else:\n",
        "            jenis = \"Ganjil\"\n",
        "\n",
        "        # Mengecek apakah bilangan adalah prima\n",
        "        if is_prima(bilangan):\n",
        "            prima_status = \"Prima\"\n",
        "        else:\n",
        "            prima_status = \"Bukan Prima\"\n",
        "\n",
        "        # Output hasil\n",
        "        print(f\"Bilangan {bilangan} adalah {jenis} dan {prima_status}.\")\n",
        "\n",
        "    except ValueError:\n",
        "        print(\"Input tidak valid. Harap masukkan bilangan bulat.\")\n",
        "\n",
        "    # Menanyakan apakah pengguna ingin mengulang\n",
        "    ulang = input(\"Apakah Anda ingin mengecek bilangan lain? (ya/tidak): \").strip().lower()\n",
        "    if ulang != 'ya':\n",
        "        print(\"Terima kasih! Program selesai.\")\n",
        "        break"
      ],
      "metadata": {
        "colab": {
          "base_uri": "https://localhost:8080/"
        },
        "id": "JAOuTmMRrIJR",
        "outputId": "16579dc9-0ba5-4dab-9a28-01033bf2bfaa"
      },
      "execution_count": 1,
      "outputs": [
        {
          "output_type": "stream",
          "name": "stdout",
          "text": [
            "Masukkan sebuah bilangan bulat: 7\n",
            "Bilangan 7 adalah Ganjil dan Prima.\n",
            "Apakah Anda ingin mengecek bilangan lain? (ya/tidak): ya\n",
            "Masukkan sebuah bilangan bulat: 6\n",
            "Bilangan 6 adalah Genap dan Bukan Prima.\n",
            "Apakah Anda ingin mengecek bilangan lain? (ya/tidak): ya\n",
            "Masukkan sebuah bilangan bulat: 1\n",
            "Bilangan 1 adalah Ganjil dan Bukan Prima.\n",
            "Apakah Anda ingin mengecek bilangan lain? (ya/tidak): tidak\n",
            "Terima kasih! Program selesai.\n"
          ]
        }
      ]
    }
  ]
}