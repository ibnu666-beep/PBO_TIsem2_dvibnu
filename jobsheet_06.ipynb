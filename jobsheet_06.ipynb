{
  "nbformat": 4,
  "nbformat_minor": 0,
  "metadata": {
    "colab": {
      "provenance": [],
      "authorship_tag": "ABX9TyPCkjvg80yL91r1/2vXl4Do",
      "include_colab_link": true
    },
    "kernelspec": {
      "name": "python3",
      "display_name": "Python 3"
    },
    "language_info": {
      "name": "python"
    }
  },
  "cells": [
    {
      "cell_type": "markdown",
      "metadata": {
        "id": "view-in-github",
        "colab_type": "text"
      },
      "source": [
        "<a href=\"https://colab.research.google.com/github/ibnu666-beep/PBO_TIsem2_dvibnu/blob/main/jobsheet_06.ipynb\" target=\"_parent\"><img src=\"https://colab.research.google.com/assets/colab-badge.svg\" alt=\"Open In Colab\"/></a>"
      ]
    },
    {
      "cell_type": "markdown",
      "source": [
        "#**PRAKTIKUM 01 : MENDEFINISIKAN KELAS ABSTRAK SEDERHANA**"
      ],
      "metadata": {
        "id": "HNRv4-cdy9wB"
      }
    },
    {
      "cell_type": "code",
      "execution_count": 2,
      "metadata": {
        "id": "y_Lqr_luwwf-",
        "outputId": "b6f8c2d5-a84f-4b57-9bf1-dbc18c1d1020",
        "colab": {
          "base_uri": "https://localhost:8080/"
        }
      },
      "outputs": [
        {
          "output_type": "stream",
          "name": "stdout",
          "text": [
            "Definisi Kelas Abstrak 'KendaraanAbstrak' selesai.\n",
            "\n",
            "Contoh definisi kelas anak 'Mobil' selesai.\n",
            "Inisialisasi KendaraanAbstrak dengan merk: Toyota\n",
            "Mesin mobil Toyota dinyalakan.\n",
            "Merk kendaraan ini adalah Toyota.\n",
            "Mesin mobil Toyota dimatikan.\n"
          ]
        }
      ],
      "source": [
        "from abc import ABC, abstractmethod\n",
        "\n",
        "class KendaraanAbstrak(ABC):\n",
        "    def __init__(self,merk):\n",
        "        self.merk = merk\n",
        "        print(f\"Inisialisasi KendaraanAbstrak dengan merk: {self.merk}\")\n",
        "\n",
        "    def info_merk(self):\n",
        "        print(f\"Merk kendaraan ini adalah {self.merk}.\")\n",
        "\n",
        "    @abstractmethod\n",
        "    def start_mesin(self):\n",
        "        print(f\"Mesin mobil {self.merk} dinyalakan.\")\n",
        "\n",
        "    def stop_mesin(self):\n",
        "        print(f\"Mesin mobil{self.merk} dimatikan.\")\n",
        "\n",
        "if __name__ == \"__main__\":\n",
        "    print(\"Definisi Kelas Abstrak 'KendaraanAbstrak' selesai.\")\n",
        "\n",
        "    class Mobil(KendaraanAbstrak):\n",
        "        def start_mesin(self):\n",
        "            print(f\"Mesin mobil {self.merk} dinyalakan.\")\n",
        "\n",
        "        def stop_mesin(self):\n",
        "            print(f\"Mesin mobil {self.merk} dimatikan.\")\n",
        "\n",
        "    print(\"\\nContoh definisi kelas anak 'Mobil' selesai.\")\n",
        "\n",
        "    mobil_contoh = Mobil(\"Toyota\")\n",
        "\n",
        "    mobil_contoh.start_mesin()\n",
        "\n",
        "    mobil_contoh.info_merk()\n",
        "\n",
        "    mobil_contoh.stop_mesin()\n",
        "\n"
      ]
    },
    {
      "cell_type": "markdown",
      "source": [
        "#**PRAKTIKUM 02 : MENCOBA INSTANSIASI KELAS ABSTRAK**"
      ],
      "metadata": {
        "id": "QZYgTSCN1nUN"
      }
    },
    {
      "cell_type": "code",
      "source": [
        "from abc import ABC, abstractmethod\n",
        "\n",
        "#definisikan kelas abstrak\n",
        "class MediaAbstrak(ABC):\n",
        "    def __init__(self, judul):\n",
        "        self.judul = judul\n",
        "        print(f\"Inisialisasi MediaAbstrak dengan judul: {self.judul}\")\n",
        "\n",
        "    @abstractmethod\n",
        "    def play(self):\n",
        "       # \"\"Metode abstrak untuk memulai pemutaran.\"\"\n",
        "        pass\n",
        "\n",
        "    @abstractmethod\n",
        "    def stop(self):\n",
        "       # \"\"Metode abstrak untuk menghentikan pemutaran.\"\"\n",
        "        pass\n",
        "\n",
        "# --- Kode Utama ---\n",
        "if __name__ == \"__main__\":\n",
        "    print(\"Mencoba membuat objek dari kelas abstrak MediaAbstrak. . .\")\n",
        "\n",
        "    #blok try-except untuk menangkap error yang diharapkan\n",
        "    try:\n",
        "        #baris ini akan menyebabkan tryerror karena mediaabstrak memiliki metode abstrak (play dan stop) yang belum diimplementasi.\n",
        "        media = MediaAbstrak(\"Konten Abstrak\")\n",
        "\n",
        "        #kode di bawah ini tidak akan pernah dijalankan jika error terjadi\n",
        "        print(\"Objek berhasil dibuat (SEHARUSNYA TIDAK TERJADI).\")\n",
        "        media.play()\n",
        "\n",
        "    except TypeError as e:\n",
        "        #menangkap dan menampilkan error typeerror\n",
        "        print(f\"\\nGAGAL membuat objek!\")\n",
        "        print(f\"Error yang muncul (sesuai harapan): {e}\")\n",
        "        print(\"\\nIni membuktikan bahwa kelas abstrak tidak bisa diinstansiasi\")\n",
        "        print(\"jika masih memiliki metode abstrak yang belum diimplementasikam\")"
      ],
      "metadata": {
        "id": "kcaNNDpV1umq",
        "outputId": "63dacae9-5c04-4156-9180-6b9d50ce1e81",
        "colab": {
          "base_uri": "https://localhost:8080/"
        }
      },
      "execution_count": 6,
      "outputs": [
        {
          "output_type": "stream",
          "name": "stdout",
          "text": [
            "Mencoba membuat objek dari kelas abstrak MediaAbstrak. . .\n",
            "\n",
            "GAGAL membuat objek!\n",
            "Error yang muncul (sesuai harapan): Can't instantiate abstract class MediaAbstrak with abstract methods play, stop\n",
            "\n",
            "Ini membuktikan bahwa kelas abstrak tidak bisa diinstansiasi\n",
            "jika masih memiliki metode abstrak yang belum diimplementasikam\n"
          ]
        }
      ]
    },
    {
      "cell_type": "markdown",
      "source": [
        "#**PRAKTIKUM 03 : MEMBUAT SUBCLASS KONKRET - ALAT PEMBAYARAN**"
      ],
      "metadata": {
        "id": "sZw3tyUX4I5s"
      }
    },
    {
      "cell_type": "code",
      "source": [
        "from abc import ABC, abstractmethod\n",
        "import locale\n",
        "import random #untuk simulasi\n",
        "\n",
        "#setting locale indonesia\n",
        "try:\n",
        "    locale.setlocale(locale.LC_ALL, 'id_ID.UTF-8')\n",
        "except locale.Error:\n",
        "    print(\"Locale id_ID.UTF-8 tidak tersedia, gunakan locale default.\")\n",
        "\n",
        "def format_rupiah(angka):\n",
        "    return f\"Rp{angka:,.0f}\".replace(\",\", \".\")\n",
        "\n",
        "#kelas abstrak\n",
        "class AlatPembayaranAbstrak (ABC):\n",
        "    def __init__(self, nama_metode):\n",
        "        self.nama_metode = nama_metode\n",
        "        print(f\"Inisialisasi alat pembayaran: {self.nama_metode}\")\n",
        "\n",
        "    def info(self):\n",
        "        print(f\"Metode Pembayaran: {self.nama_metode}\")\n",
        "\n",
        "    @abstractmethod\n",
        "    def proses_pembayaran(self, jumlah):\n",
        "        \"\"\"\n",
        "        Metode abstrak untuk memproses pembayaran sejumlah 'jumlah'.\n",
        "        Harus diimplementasikan oleh subclass.\n",
        "        Harus mengembalikan True jika berhasil, False jika gagal.\n",
        "        \"\"\"\n",
        "        pass\n",
        "\n",
        "# --- Implementasikan Subclass Konkret ---\n",
        "\n",
        "#1. Subclass konkret pertama: kartukredit\n",
        "class KartuKredit(AlatPembayaranAbstrak):\n",
        "    def __init__(self, nomor_kartu, nama_pemilik):\n",
        "        super() .__init__(\"Kartu Kredit\")\n",
        "        self.nomor_kartu = nomor_kartu[-4:] #simpan 4 digit terakhir\n",
        "\n",
        "        self.nama_pemilik = nama_pemilik\n",
        "        print(f\" -> Kartu Kredit **********{self.nomor_kartu} ({self.nama_pemilik}) siap.\")\n",
        "\n",
        "    #implementasi metode abstrak proses_pembayaran\n",
        "    def proses_pembayaran(self, jumlah):\n",
        "        print(f\"Memproses pembayaran {format_rupiah(jumlah)} via Kartu Kredit **********{self.nomor_kartu} . . .\")\n",
        "        #simulasi keberhasilan/kegagalan\n",
        "        berhasil = random.choice([True, False])\n",
        "        if berhasil:\n",
        "            print(\" Pembayaran Kartu Kredit Berhasil.\")\n",
        "            return True\n",
        "        else:\n",
        "            print(\" Pembayaran Kartu Kredit Gagal (Limit tidak cukup/Error).\")\n",
        "            return False\n",
        "\n",
        "#2. subclass konkret kedua : dompetdigital\n",
        "class DompetDigital(AlatPembayaranAbstrak):\n",
        "    def __init__(self, nomor_telepon, nama_provider):\n",
        "        super() .__init__(f\"Dompet DIgital ({nama_provider})\")\n",
        "        self.nomor_telepon = nomor_telepon\n",
        "        self._saldo = random.randint(50000, 500000) #saldo awal acak\n",
        "        print(f\" -> Dompet Digital {self.nomor_telepon} siap (Saldo: {format_rupiah(self._saldo)}).\")\n",
        "\n",
        "    #implementasi metode abstrak proses_pembayaran\n",
        "    def proses_pembayaran(self, jumlah):\n",
        "        print(f\" Memproses pembayaran {format_rupiah(jumlah)} bia Dompet Digital {self.nomor_telepon} . . .\")\n",
        "        if jumlah <= self._saldo:\n",
        "            self._saldo -= jumlah\n",
        "            print(\" Pembayaran Dompet Digital Berhasil.\")\n",
        "            print(f\" Saldo tersisa: {format_rupiah(self._saldo)}\")\n",
        "        else:\n",
        "            print(\" Pembayaran Dompet Digital Gagal (Saldo tidak mencukupi).\")\n",
        "            print(f\" Saldo saat ini: {format_rupiah(self._saldo)}\")\n",
        "            return False\n",
        "\n",
        "# --- Kode Utama ---\n",
        "if __name__ == \"__main__\":\n",
        "    print(\"\\nMembuat Objek Alat Pembayaran . . .\")\n",
        "    kartu_bca = KartuKredit(\"1234-5678-9012-3456\", \"Budi Cahyono\")\n",
        "    gopay = DompetDigital(\"08123456789\", \"GoPay\")\n",
        "\n",
        "    print(\"\\nMelakukan Pembayaran:\")\n",
        "\n",
        "    print(\"\\nMencoba bayar dengan Kartu Kredit:\")\n",
        "    kartu_bca.info()\n",
        "    status_kk = kartu_bca.proses_pembayaran(150000)\n",
        "    print(f\" STatus Transaksi KK: {'Sukses' if status_kk else 'Gagal'}\")\n",
        "\n",
        "    print(\"\\nMencoba bayar dengan GoPay (Jumlah Kecil):\")\n",
        "    gopay.info()\n",
        "    status_gopay1 = gopay.proses_pembayaran(75000)\n",
        "    print(f\" Status Transaksi GoPay 1: {'Sukses' if status_gopay1 else 'Gagal'}\")\n",
        "\n",
        "    print(\"\\nMencoba bayar dengan GoPay (Jumlah Besar):\")\n",
        "    gopay.info()\n",
        "    status_gopay2 = gopay.proses_pembayaran(1000000) #kemungkinana gagal karena saldo\n",
        "    print(f\" Status Transaksi GoPay 2: {'Sukses' if status_gopay2 else 'Gagal'}\")"
      ],
      "metadata": {
        "id": "Mip6V2gn4PqH",
        "outputId": "d34f8106-660c-4cc9-fe92-ea2e3fc2a32b",
        "colab": {
          "base_uri": "https://localhost:8080/"
        }
      },
      "execution_count": 17,
      "outputs": [
        {
          "output_type": "stream",
          "name": "stdout",
          "text": [
            "Locale id_ID.UTF-8 tidak tersedia, gunakan locale default.\n",
            "\n",
            "Membuat Objek Alat Pembayaran . . .\n",
            "Inisialisasi alat pembayaran: Kartu Kredit\n",
            " -> Kartu Kredit **********3456 (Budi Cahyono) siap.\n",
            "Inisialisasi alat pembayaran: Dompet DIgital (GoPay)\n",
            " -> Dompet Digital 08123456789 siap (Saldo: Rp406.452).\n",
            "\n",
            "Melakukan Pembayaran:\n",
            "\n",
            "Mencoba bayar dengan Kartu Kredit:\n",
            "Metode Pembayaran: Kartu Kredit\n",
            "Memproses pembayaran Rp150.000 via Kartu Kredit **********3456 . . .\n",
            " Pembayaran Kartu Kredit Gagal (Limit tidak cukup/Error).\n",
            " STatus Transaksi KK: Gagal\n",
            "\n",
            "Mencoba bayar dengan GoPay (Jumlah Kecil):\n",
            "Metode Pembayaran: Dompet DIgital (GoPay)\n",
            " Memproses pembayaran Rp75.000 bia Dompet Digital 08123456789 . . .\n",
            " Pembayaran Dompet Digital Berhasil.\n",
            " Saldo tersisa: Rp331.452\n",
            " Status Transaksi GoPay 1: Gagal\n",
            "\n",
            "Mencoba bayar dengan GoPay (Jumlah Besar):\n",
            "Metode Pembayaran: Dompet DIgital (GoPay)\n",
            " Memproses pembayaran Rp1.000.000 bia Dompet Digital 08123456789 . . .\n",
            " Pembayaran Dompet Digital Gagal (Saldo tidak mencukupi).\n",
            " Saldo saat ini: Rp331.452\n",
            " Status Transaksi GoPay 2: Gagal\n"
          ]
        }
      ]
    }
  ]
}