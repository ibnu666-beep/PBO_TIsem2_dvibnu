{
  "nbformat": 4,
  "nbformat_minor": 0,
  "metadata": {
    "colab": {
      "provenance": [],
      "authorship_tag": "ABX9TyPKGmg23CL2cz88binmjKtE",
      "include_colab_link": true
    },
    "kernelspec": {
      "name": "python3",
      "display_name": "Python 3"
    },
    "language_info": {
      "name": "python"
    }
  },
  "cells": [
    {
      "cell_type": "markdown",
      "metadata": {
        "id": "view-in-github",
        "colab_type": "text"
      },
      "source": [
        "<a href=\"https://colab.research.google.com/github/ibnu666-beep/PBO_TIsem2_dvibnu/blob/main/Program_Penghitung_BMI.ipynb\" target=\"_parent\"><img src=\"https://colab.research.google.com/assets/colab-badge.svg\" alt=\"Open In Colab\"/></a>"
      ]
    },
    {
      "cell_type": "markdown",
      "source": [
        "# **Program Penghitung BMI**\n"
      ],
      "metadata": {
        "id": "Cg5Eb3ZDqxqx"
      }
    },
    {
      "cell_type": "code",
      "source": [
        "# Fungsi untuk menghitung BMI\n",
        "def hitung_bmi(berat, tinggi):\n",
        "    tinggi_m = tinggi / 100  # Mengubah tinggi dari cm ke m\n",
        "    bmi = berat / (tinggi_m ** 2)  # Menghitung BMI\n",
        "    return bmi\n",
        "\n",
        "# Fungsi untuk menentukan kategori BMI\n",
        "def kategori_bmi(bmi):\n",
        "    if bmi < 18.5:\n",
        "        return \"Underweight\"\n",
        "    elif 18.5 <= bmi < 25:\n",
        "        return \"Normal\"\n",
        "    elif 25 <= bmi < 30:\n",
        "        return \"Overweight\"\n",
        "    else:\n",
        "        return \"Obesity\"\n",
        "\n",
        "# Input dari pengguna\n",
        "berat = float(input(\"Masukkan berat badan Anda (kg): \"))\n",
        "tinggi = float(input(\"Masukkan tinggi badan Anda (cm): \"))\n",
        "\n",
        "# Menghitung BMI\n",
        "bmi = hitung_bmi(berat, tinggi)\n",
        "\n",
        "# Menentukan kategori BMI\n",
        "kategori = kategori_bmi(bmi)\n",
        "\n",
        "# Output hasil\n",
        "print(f\"Nilai BMI Anda: {bmi:.2f}\")\n",
        "print(f\"Kategori: {kategori}\")"
      ],
      "metadata": {
        "colab": {
          "base_uri": "https://localhost:8080/"
        },
        "id": "JAOuTmMRrIJR",
        "outputId": "efae6b8e-d41a-458e-e5d5-067af7a901c3"
      },
      "execution_count": 1,
      "outputs": [
        {
          "output_type": "stream",
          "name": "stdout",
          "text": [
            "Masukkan berat badan Anda (kg): 70\n",
            "Masukkan tinggi badan Anda (cm): 173\n",
            "Nilai BMI Anda: 23.39\n",
            "Kategori: Normal\n"
          ]
        }
      ]
    }
  ]
}