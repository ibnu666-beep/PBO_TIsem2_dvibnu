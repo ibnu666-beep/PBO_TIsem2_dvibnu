{
  "nbformat": 4,
  "nbformat_minor": 0,
  "metadata": {
    "colab": {
      "provenance": [],
      "authorship_tag": "ABX9TyO9cjk3YZSafXsLniec6ov1",
      "include_colab_link": true
    },
    "kernelspec": {
      "name": "python3",
      "display_name": "Python 3"
    },
    "language_info": {
      "name": "python"
    }
  },
  "cells": [
    {
      "cell_type": "markdown",
      "metadata": {
        "id": "view-in-github",
        "colab_type": "text"
      },
      "source": [
        "<a href=\"https://colab.research.google.com/github/ibnu666-beep/PBO_TIsem2_dvibnu/blob/main/jobsheet_04.ipynb\" target=\"_parent\"><img src=\"https://colab.research.google.com/assets/colab-badge.svg\" alt=\"Open In Colab\"/></a>"
      ]
    },
    {
      "cell_type": "markdown",
      "source": [
        "#**PRAKTIKUM 01 : Inheritance Dasar**"
      ],
      "metadata": {
        "id": "TL7BnJgFe7Jx"
      }
    },
    {
      "cell_type": "code",
      "execution_count": 3,
      "metadata": {
        "id": "Rm1H53w7YcH0",
        "outputId": "eb85e098-ee65-47a9-f6ae-fe90285b0350",
        "colab": {
          "base_uri": "https://localhost:8080/"
        }
      },
      "outputs": [
        {
          "output_type": "stream",
          "name": "stdout",
          "text": [
            "Ini adalah mobil Tesla Model S berwarna Merah.\n",
            "Mesin kendaraan Tesla Model S dinyalakan.\n",
            "Merk mobil: Tesla Model S\n"
          ]
        }
      ],
      "source": [
        "#Kelas Induk\n",
        "class Kendaraan:\n",
        "    def __init__(self, merk):\n",
        "        self.merk = merk\n",
        "    def mulai_mesin(self):\n",
        "        print(f\"Mesin kendaraan {self.merk} dinyalakan.\")\n",
        "\n",
        "#Kelas Anak (mewarnai dari kendaraan)\n",
        "class Mobil (Kendaraan):\n",
        "    def __init__(self, merk, warna):\n",
        "        #memanggil __init__ kelas induk (akan dibahas di praktikum 2)\n",
        "        #untuk sekarang kita set merk secara manual\n",
        "        self.merk = merk #mewarisi 'merk' tapi di set ulang disini\n",
        "        self.warna = warna #atribut khusus mobil\n",
        "\n",
        "    def info_mobil (self):\n",
        "        print(f\"Ini adalah mobil {self.merk} berwarna {self.warna}.\")\n",
        "\n",
        "# --- Kode Utama ---\n",
        "if __name__ == \"__main__\":\n",
        "    mobil_tesla = Mobil(\"Tesla Model S\", \"Merah\")\n",
        "\n",
        "    #memanggil metode dari kelas anak\n",
        "    mobil_tesla.info_mobil()\n",
        "\n",
        "    #memanggil metode yang diwarisi dari kelas induk\n",
        "    mobil_tesla.mulai_mesin()\n",
        "\n",
        "    #mengakses atribut yang diwarisi (dan di set di anak)\n",
        "    print(f\"Merk mobil: {mobil_tesla.merk}\")\n"
      ]
    },
    {
      "cell_type": "markdown",
      "source": [
        "#**PRAKTIKUM 02 : Menggunakan super() dalam konstruktor**"
      ],
      "metadata": {
        "id": "WuXnIWehiXXk"
      }
    },
    {
      "cell_type": "code",
      "source": [
        "#kelas induk\n",
        "class Person:\n",
        "    def __init__(self, nama, usia):\n",
        "        print(f\"(Memanggil __init__ Person untuk '{nama})\")\n",
        "        self.nama = nama\n",
        "        self.usia = usia\n",
        "\n",
        "    def perkenalkan_diri (self):\n",
        "            print(f\"Halo, nama saya {self.nama} dan saya berumur {self.usia} tahun.\")\n",
        "\n",
        "#kelas anak (mewarisi dari Person)\n",
        "class Student (Person):\n",
        "    def __init__(self, nama, usia, student_id, jurusan):\n",
        "        print(f\"(Memanggil __init__ Student untuk '{nama}')\")\n",
        "        #Memanggil __init__ dari kelas Person untuk inisialisasi nama dan usia\n",
        "\n",
        "        super() .__init__(nama, usia)\n",
        "        #menambahkan atribut khusus Student\n",
        "        self.student_id = student_id\n",
        "        self.jurusan = jurusan\n",
        "        print(f\"(Inisialisasi atribut Student selesai untuk '{nama}')\")\n",
        "\n",
        "    def info_akademik(self):\n",
        "        print(f\"ID Mahasiswa: {self.student_id}\")\n",
        "        print(f\"Jurusan: {self.jurusan}\")\n",
        "\n",
        "    #override perkenalkan diri untuk menambahkan info student\n",
        "    def perkenalkan_diri(self):\n",
        "        super() .perkenalkan_diri () #panggil versi person\n",
        "        print(f\"Saya adalah mahasiswa ID {self.student_id}, jurusan {self.jurusan}.\")\n",
        "\n",
        "# -- Kode Utama --\n",
        "if __name__ == \"__main__\":\n",
        "    #membuat objek person\n",
        "    dosen = Person(\"Pak Anton\", 45)\n",
        "    print(\"-\" * 20)\n",
        "    dosen.perkenalkan_diri()\n",
        "    print(\"\\n\" + \"=\" * 30 + \"\\n\")\n",
        "\n",
        "    #membuat pbjek student\n",
        "    mahasiswa = Student(\"Dewi\", 20, \"MHS001\", \"Teknik Komputer\")\n",
        "    print(\"-\" * 20)\n",
        "    mahasiswa.perkenalkan_diri() #panggil versi override di student\n",
        "    print(\"-\" * 20)\n",
        "    mahasiswa.info_akademik() #panggil metode khusus student\n",
        "\n",
        "    #cek atribut yang diwarisi\n",
        "    print(f\"\\nUsia mahasiswa {mahasiswa.nama}: {mahasiswa.usia}\") #usia diwarisi dari person"
      ],
      "metadata": {
        "id": "oWL2Mr8iies-",
        "outputId": "c5204cae-7f8c-4ae3-9c8c-184e67f0dbfa",
        "colab": {
          "base_uri": "https://localhost:8080/"
        }
      },
      "execution_count": 5,
      "outputs": [
        {
          "output_type": "stream",
          "name": "stdout",
          "text": [
            "(Memanggil __init__ Person untuk 'Pak Anton)\n",
            "--------------------\n",
            "Halo, nama saya Pak Anton dan saya berumur 45 tahun.\n",
            "\n",
            "==============================\n",
            "\n",
            "(Memanggil __init__ Student untuk 'Dewi')\n",
            "(Memanggil __init__ Person untuk 'Dewi)\n",
            "(Inisialisasi atribut Student selesai untuk 'Dewi')\n",
            "--------------------\n",
            "Halo, nama saya Dewi dan saya berumur 20 tahun.\n",
            "Saya adalah mahasiswa ID MHS001, jurusan Teknik Komputer.\n",
            "--------------------\n",
            "ID Mahasiswa: MHS001\n",
            "Jurusan: Teknik Komputer\n",
            "\n",
            "Usia mahasiswa Dewi: 20\n"
          ]
        }
      ]
    },
    {
      "cell_type": "markdown",
      "source": [
        "#**PRAKTIKUM 03 : METHOD OVERRIDING DAN SUPER()**"
      ],
      "metadata": {
        "id": "NbZcXljNnQrl"
      }
    },
    {
      "cell_type": "code",
      "source": [
        "#kelas induk\n",
        "class Hewan:\n",
        "    def __init__(self, nama):\n",
        "        self.nama = nama\n",
        "\n",
        "    def bersuara(self):\n",
        "        print(f\"{self.nama} mengeluarkan suara generik.\")\n",
        "\n",
        "    def tampilkan_info(self):\n",
        "        print(f\"Ini adalah hewan bernama {self.nama}.\")\n",
        "\n",
        "#kelas anak\n",
        "class Kucing(Hewan):\n",
        "    def __init__(self, nama, ras):\n",
        "        super() .__init__(nama) #panggil init induk\n",
        "        self.ras = ras\n",
        "\n",
        "    #method overriding untuk bersuara\n",
        "    def bersuara(self):\n",
        "        print(f\"{self.nama} {Kucing} mengeong: Meow!\")\n",
        "\n",
        "    #method overriding untuk tampilkan_info, memanggil versi induk\n",
        "    def tampilkan_info(self):\n",
        "        super() .tampilkan_info() #panggil implementasi dari hewan\n",
        "        print(f\"Ini adalah kucing ras {self.ras}.\") #tambahkan info spesifik\n",
        "\n",
        "# --- Kode Utama ---\n",
        "if __name__ == \"__main__\":\n",
        "    hewan_umum = Hewan(\"Makhluk\")\n",
        "    kucing_persia = Kucing(\"Puspus\", \"Persia\")\n",
        "\n",
        "    print(\"Info Hewan Umum:\")\n",
        "    hewan_umum.tampilkan_info()\n",
        "    hewan_umum.bersuara()\n",
        "    print(\"-\" * 20)\n",
        "\n",
        "    print(\"Info Kucing Persia:\")\n",
        "    kucing_persia.tampilkan_info() #akan memanggil versi kucing\n",
        "    kucing_persia.bersuara() #akan memanggil versi kucing"
      ],
      "metadata": {
        "id": "2TUQPk4qnX4F",
        "outputId": "324ae76e-eb42-4d6a-da94-b23a7f09d779",
        "colab": {
          "base_uri": "https://localhost:8080/"
        }
      },
      "execution_count": 8,
      "outputs": [
        {
          "output_type": "stream",
          "name": "stdout",
          "text": [
            "Info Hewan Umum:\n",
            "Ini adalah hewan bernama Makhluk.\n",
            "Makhluk mengeluarkan suara generik.\n",
            "--------------------\n",
            "Info Kucing Persia:\n",
            "Ini adalah hewan bernama Puspus.\n",
            "Ini adalah kucing ras Persia.\n",
            "Puspus <class '__main__.Kucing'> mengeong: Meow!\n"
          ]
        }
      ]
    },
    {
      "cell_type": "markdown",
      "source": [
        "#**PRAKTIKUM 04 : MULTI-LEVEL INHERITANCE (PEWARISAN BERTINGKAT)**"
      ],
      "metadata": {
        "id": "j5StfnX3wvGi"
      }
    },
    {
      "cell_type": "code",
      "source": [
        "#kelas induk level 1\n",
        "class Organisme:\n",
        "    def __init__(self, nama):\n",
        "        self.nama = nama\n",
        "        print(f\"Organisme '{self.nama}' diciptakan.\")\n",
        "\n",
        "    def bernapas(self):\n",
        "        print(f\"{self.nama} sedang bernapas.\")\n",
        "\n",
        "#kelas anak level 1 (mewarisi dari organisme)\n",
        "class Hewan(Organisme):\n",
        "    def __init__(self, nama, jenis_makanan):\n",
        "        super() .__init__(nama) #panggil init organisme\n",
        "        self.jenis_makanan = jenis_makanan\n",
        "        print(f\"Hewan '{self.nama}' adalah {self.jenis_makanan}.\")\n",
        "\n",
        "    def bergerak(self):\n",
        "        print(f\"{self.nama} sedang bergerak.\")\n",
        "\n",
        "#kelas anak level 2 (mewarisi dari hewan)\n",
        "class Mamalia(Hewan):\n",
        "    def __init__(self, nama, jenis_makanan, jumlah_kaki):\n",
        "        super() .__init__(nama, jenis_makanan) #panggil init hewan\n",
        "        self.jumlah_kaki = jumlah_kaki\n",
        "        print(f\"Mamalia '{self.nama}' memiliki {self.jumlah_kaki} kaki.\")\n",
        "\n",
        "    def menyusui(self):\n",
        "        print(f\"{self.nama} sedang menyusui.\")\n",
        "\n",
        "# --- Kode Utama ---\n",
        "if __name__ == \"__main__\":\n",
        "    kucing = Mamalia(\"Kucing Persia\", \"Karnivora\", 4)\n",
        "    print(\"-\" * 20)\n",
        "\n",
        "    #memanggil metode dari kelas mamalia\n",
        "    kucing.menyusui()\n",
        "\n",
        "    #memanggil metode yang diwarisi dari kelas hewan\n",
        "    kucing.bergerak()\n",
        "    print(f\"Jenis makanan: {kucing.jenis_makanan}\")\n",
        "\n",
        "    #memanggil metode yang diwarisi dari kelas organisme\n",
        "    kucing.bernapas()\n",
        "    print(f\"Nama organisme: {kucing.nama}\")"
      ],
      "metadata": {
        "id": "U9Yf6X3pw6JH",
        "outputId": "0637cff8-9f54-4700-8879-6374dd372815",
        "colab": {
          "base_uri": "https://localhost:8080/"
        }
      },
      "execution_count": 9,
      "outputs": [
        {
          "output_type": "stream",
          "name": "stdout",
          "text": [
            "Organisme 'Kucing Persia' diciptakan.\n",
            "Hewan 'Kucing Persia' adalah Karnivora.\n",
            "Mamalia 'Kucing Persia' memiliki 4 kaki.\n",
            "--------------------\n",
            "Kucing Persia sedang menyusui.\n",
            "Kucing Persia sedang bergerak.\n",
            "Jenis makanan: Karnivora\n",
            "Kucing Persia sedang bernapas.\n",
            "Nama organisme: Kucing Persia\n"
          ]
        }
      ]
    },
    {
      "cell_type": "markdown",
      "source": [
        "#**PRAKTIKUM 06 : MEMERIKSA TIPE INSTANCE DENGAN INSTANCE()**"
      ],
      "metadata": {
        "id": "V3PEaICx4kVm"
      }
    },
    {
      "cell_type": "code",
      "source": [
        "class BentukGeometri:\n",
        "    def __init__(self, nama, bentuk):\n",
        "        self.nama = nama_bentuk\n",
        "    def tampilkan_nama(self):\n",
        "        print(f\"Ini adalah bentuk: {self.nama}\")\n",
        "    def hitung_luas(self):\n",
        "        print(f\"Luas {self.nama} tidak dapat dihitung (generik).\")\n",
        "\n",
        "class PersegiPanjang(BentukGeometri):\n",
        "    def __init__(self, panjang, lebar):\n",
        "        super() .__init__(\"Persegi Panjang\")\n",
        "        self.panjang = panjang\n",
        "        self.lebar = lebar\n",
        "    def hitung_luas(self):\n",
        "        luas = self.panjang * self.lebar\n",
        "        print(f\"Luas {self.nama}: {luas}\")\n",
        "\n",
        "class Segitiga (BentukGeometri):\n",
        "    def __init__(self, alas, tinggi):\n",
        "        super() .__init__(\"Segitiga\")\n",
        "        self.alas = alas\n",
        "        self.tinggi = tinggi\n",
        "    def hitung_luas(self):\n",
        "        luas = 0.5 * self.alas * self.tinggi\n",
        "        print(f\"Luas {self.nama}: {luas}\")\n",
        "\n",
        "class Segitiga(BentukGeometri):\n",
        "    def __init__(self, alas, tinggi):\n",
        "        super() .__init__(\"Segitiga\")\n",
        "        self.alas = alas\n",
        "        self.tinggi = tinggi\n",
        "    def hitung_luas(self):\n",
        "        luas = 0.5 * self.alas * self.tinggi\n",
        "        print(f\"luas {self.nama}: {luas}\")\n",
        "\n",
        "def proses bentuk(bentuk):\n",
        "    print(f\"\\nMemproses objek: {type (bentuk)}\")\n",
        "\n",
        "    if isinstance(bentuk, BentukGeometri):\n",
        "        bentuk.tampilkan nama()\n",
        "        print(\"Objek ini adalah instance dari BentukGeometri (atau turunannya).\")\n",
        "\n",
        "        if insinstance(bentuk, PersegiPanjang):\n",
        "            print(\"-> Objek ini juga instance dari PersegiPanjang.\")\n",
        "        elif insinstance(bentuk, Segitiga):\n",
        "            print(\"-> Objek ini juga instance dari Segitiga.\")\n",
        "    else:\n",
        "        print(\"Objek ini BUKAN instance dari BentukGeometri.\")\n",
        "\n",
        "    if isinstance(bentuk, str):\n",
        "        print(\"Objek ini adalah atring.\")\n",
        "\n",
        "# --- Kode Utama ---\n",
        "if __name__ == \"__main__\":\n",
        "    pp = PersegiPanjang(4, 3)\n",
        "    seg = Segitiga(5,2)\n",
        "    bg = BentukGeometri (\"Lingkaran\") #contoh lain\n",
        "    teks = \"Ini string\"\n",
        "\n",
        "    daftar_objek = [pp, seg, bg, teks]\n",
        "\n",
        "    for obj in daftar_objek:\n",
        "        proses_bentuk(obj)\n"
      ],
      "metadata": {
        "id": "sn0Ci3ZU4sj_",
        "outputId": "7693c6ea-fc3c-4162-d8ea-d4f1dad59007",
        "colab": {
          "base_uri": "https://localhost:8080/",
          "height": 106
        }
      },
      "execution_count": 11,
      "outputs": [
        {
          "output_type": "error",
          "ename": "SyntaxError",
          "evalue": "expected '(' (<ipython-input-11-bf48e6384238>, line 36)",
          "traceback": [
            "\u001b[0;36m  File \u001b[0;32m\"<ipython-input-11-bf48e6384238>\"\u001b[0;36m, line \u001b[0;32m36\u001b[0m\n\u001b[0;31m    def proses bentuk(bentuk):\u001b[0m\n\u001b[0m               ^\u001b[0m\n\u001b[0;31mSyntaxError\u001b[0m\u001b[0;31m:\u001b[0m expected '('\n"
          ]
        }
      ]
    }
  ]
}